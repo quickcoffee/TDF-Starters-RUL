{
 "cells": [
  {
   "cell_type": "code",
   "execution_count": 199,
   "metadata": {},
   "outputs": [],
   "source": [
    "from requests import get\n",
    "import datetime as dt\n",
    "import random\n",
    "from bs4 import BeautifulSoup\n",
    "import pandas as pd\n",
    "import numpy as np\n",
    "import re\n",
    "import resource\n",
    "import sys"
   ]
  },
  {
   "cell_type": "markdown",
   "metadata": {},
   "source": [
    "Below a list of user agents to rotate between, when sending out requests to scrape the data about the TDF starters:"
   ]
  },
  {
   "cell_type": "code",
   "execution_count": 200,
   "metadata": {},
   "outputs": [],
   "source": [
    "user_agent_list = [\n",
    "   #Chrome\n",
    "    'Mozilla/5.0 (Windows NT 10.0; Win64; x64) AppleWebKit/537.36 (KHTML, like Gecko) Chrome/60.0.3112.113 Safari/537.36',\n",
    "    'Mozilla/5.0 (Windows NT 6.1; Win64; x64) AppleWebKit/537.36 (KHTML, like Gecko) Chrome/60.0.3112.90 Safari/537.36',\n",
    "    'Mozilla/5.0 (Windows NT 5.1; Win64; x64) AppleWebKit/537.36 (KHTML, like Gecko) Chrome/60.0.3112.90 Safari/537.36',\n",
    "    'Mozilla/5.0 (Windows NT 6.2; Win64; x64) AppleWebKit/537.36 (KHTML, like Gecko) Chrome/60.0.3112.90 Safari/537.36',\n",
    "    'Mozilla/5.0 (X11; Linux x86_64) AppleWebKit/537.36 (KHTML, like Gecko) Chrome/44.0.2403.157 Safari/537.36',\n",
    "    'Mozilla/5.0 (Windows NT 6.3; Win64; x64) AppleWebKit/537.36 (KHTML, like Gecko) Chrome/60.0.3112.113 Safari/537.36',\n",
    "    'Mozilla/5.0 (Windows NT 10.0; Win64; x64) AppleWebKit/537.36 (KHTML, like Gecko) Chrome/57.0.2987.133 Safari/537.36',\n",
    "    'Mozilla/5.0 (Windows NT 6.1; Win64; x64) AppleWebKit/537.36 (KHTML, like Gecko) Chrome/57.0.2987.133 Safari/537.36',\n",
    "    'Mozilla/5.0 (Windows NT 10.0; Win64; x64) AppleWebKit/537.36 (KHTML, like Gecko) Chrome/55.0.2883.87 Safari/537.36',\n",
    "    'Mozilla/5.0 (Windows NT 6.1; Win64; x64) AppleWebKit/537.36 (KHTML, like Gecko) Chrome/55.0.2883.87 Safari/537.36',\n",
    "    #Firefox\n",
    "    'Mozilla/4.0 (compatible; MSIE 9.0; Windows NT 6.1)',\n",
    "    'Mozilla/5.0 (Windows NT 6.1; WOW64; Trident/7.0; rv:11.0) like Gecko',\n",
    "    'Mozilla/5.0 (compatible; MSIE 9.0; Windows NT 6.1; WOW64; Trident/5.0)',\n",
    "    'Mozilla/5.0 (Windows NT 6.1; Trident/7.0; rv:11.0) like Gecko',\n",
    "    'Mozilla/5.0 (Windows NT 6.2; WOW64; Trident/7.0; rv:11.0) like Gecko',\n",
    "    'Mozilla/5.0 (Windows NT 10.0; WOW64; Trident/7.0; rv:11.0) like Gecko',\n",
    "    'Mozilla/5.0 (compatible; MSIE 9.0; Windows NT 6.0; Trident/5.0)',\n",
    "    'Mozilla/5.0 (Windows NT 6.3; WOW64; Trident/7.0; rv:11.0) like Gecko',\n",
    "    'Mozilla/5.0 (compatible; MSIE 9.0; Windows NT 6.1; Trident/5.0)',\n",
    "    'Mozilla/5.0 (Windows NT 6.1; Win64; x64; Trident/7.0; rv:11.0) like Gecko',\n",
    "    'Mozilla/5.0 (compatible; MSIE 10.0; Windows NT 6.1; WOW64; Trident/6.0)',\n",
    "    'Mozilla/5.0 (compatible; MSIE 10.0; Windows NT 6.1; Trident/6.0)',\n",
    "    'Mozilla/4.0 (compatible; MSIE 8.0; Windows NT 5.1; Trident/4.0; .NET CLR 2.0.50727; .NET CLR 3.0.4506.2152; .NET CLR 3.5.30729)'\n",
    "]"
   ]
  },
  {
   "cell_type": "code",
   "execution_count": 201,
   "metadata": {},
   "outputs": [],
   "source": [
    "#List with all the riders \n",
    "Rider_Names = []"
   ]
  },
  {
   "cell_type": "markdown",
   "metadata": {},
   "source": [
    "The following function scrapes different features of a rider and returns a dataframe with the data. The features are for example Name, Weight, Height, Birthday, Results, Teams, etc."
   ]
  },
  {
   "cell_type": "code",
   "execution_count": 209,
   "metadata": {},
   "outputs": [],
   "source": [
    "def get_rider_info(rider_name,i):\n",
    "  user_agent = rider_name\n",
    "  RiderUrl = 'https://www.procyclingstats.com/rider/%s/' % rider_name\n",
    "  headers = {'User-Agent': user_agent[i]}\n",
    "  RiderResponse = get(RiderUrl, headers=headers)\n",
    "  html_soup = BeautifulSoup(RiderResponse.text, 'html.parser')\n",
    "  #Get rider name\n",
    "  RiderName = html_soup.find_all(\"title\")[0].contents[0]\n",
    "  \n",
    "  #Get rider weight\n",
    "  RiderWeight = []\n",
    "  try:\n",
    "    RiderWeight = float(html_soup.find('b', text='Weight:').next_sibling.strip()[:-3])\n",
    "  except AttributeError:\n",
    "    RiderWeight = np.nan\n",
    "  else:\n",
    "    RiderWeight = float(html_soup.find('b', text='Weight:').next_sibling.strip()[:-3])\n",
    "  \n",
    "  #Get rider height\n",
    "  RiderHeight = []\n",
    "  try:\n",
    "    RiderHeight = float(html_soup.find('b', text='Height:').next_sibling.strip()[:-2])\n",
    "  except AttributeError:\n",
    "    RiderHeight = np.nan\n",
    "  else:\n",
    "    RiderHeight = float(html_soup.find('b', text='Height:').next_sibling.strip()[:-2])\n",
    "  \n",
    "  #Get rider Birthday\n",
    "    #Get rider Birthday\n",
    "  RiderBirthMonthYear = html_soup.find('meta', attrs={'name': 'description'})['content']\n",
    "  res = re.search(\"\\(born\\s([0-9]{4}\\-[0-9]{2}\\-[0-9]{2})\\)\", RiderBirthMonthYear).group(1)\n",
    "  RiderBirthdate = dt.datetime.strptime(res,'%Y-%m-%d')\n",
    "\n",
    "  #Get retirement date\n",
    "  rt = []\n",
    "  for ultag in html_soup.find_all('ul', {'class': 'moblist rdr-teams'}):\n",
    "    for litag in ultag.find_all('li'):\n",
    "        if \"Retired\" in litag.text:\n",
    "            rt.append(litag.text)\n",
    "  try:\n",
    "    dt.datetime.strptime(''.join(rt).strip()[-10:], '%Y-%m-%d')\n",
    "  except ValueError:\n",
    "    RiderRetirementDate = pd.NaT\n",
    "  else:\n",
    "    RiderRetirementDate = dt.datetime.strptime(''.join(rt).strip()[-10:], '%Y-%m-%d')\n",
    "\n",
    "  #Get Rider Nationality\n",
    "  RiderNationality = html_soup.find('a', {'class': 'black'}).text.strip()\n",
    "\n",
    "  #Get Rider Starts\n",
    "  keyStartsList = html_soup.find('ul', {'class': 'key-stats'}).find('li')\n",
    "\n",
    "  RiderGTStarts = int(re.search(r'\\d+', keyStartsList.text).group(0))\n",
    "  RiderClassicsStarts = int(re.search(r'\\d+', keyStartsList.next_sibling.text).group(0))\n",
    "\n",
    "  #Get Rider KeyStats\n",
    "  RiderKeyStatsUrl = RiderUrl + '/statistics/key-career-stats'\n",
    "\n",
    "  KeyStatsResponse = get(RiderKeyStatsUrl, headers=headers)\n",
    "  \n",
    "  KeyStats_soup = BeautifulSoup(KeyStatsResponse.text, 'html.parser')\n",
    "  \n",
    "  OneDayStats = []\n",
    "  try:\n",
    "    OneDayStats = float(KeyStats_soup.find('h3', text = \"1. One-day-races\").next_sibling.text.strip('%'))/100\n",
    "  except ValueError:\n",
    "    OneDayStats = float(0)\n",
    "  else:\n",
    "    OneDayStats = float(KeyStats_soup.find('h3', text = \"1. One-day-races\").next_sibling.text.strip('%'))/100\n",
    "\n",
    "  GCStats = []\n",
    "  try:\n",
    "    GCStats = float(KeyStats_soup.find('h3', text = \"2. General classifications\").next_sibling.text.strip('%'))/100\n",
    "  except ValueError:\n",
    "    GCStats = float(0)\n",
    "  else:\n",
    "    GCStats = float(KeyStats_soup.find('h3', text = \"2. General classifications\").next_sibling.text.strip('%'))/100\n",
    "\n",
    "  StagesStats = []\n",
    "  try:\n",
    "    StagesStats = float(KeyStats_soup.find('h3', text = \"3. Stages\").next_sibling.text.strip('%'))/100\n",
    "  except ValueError:\n",
    "    StagesStats = float(0)\n",
    "  else:\n",
    "    StagesStats = float(KeyStats_soup.find('h3', text = \"3. Stages\").next_sibling.text.strip('%'))/100\n",
    "    \n",
    "  TTStats = []\n",
    "  try:\n",
    "    TTStats = float(KeyStats_soup.find('h3', text = \"4. Time trial\").next_sibling.text.strip('%'))/100\n",
    "  except ValueError:\n",
    "    TTStats = float(0)\n",
    "  else:\n",
    "    TTStats = float(KeyStats_soup.find('h3', text = \"4. Time trial\").next_sibling.text.strip('%'))/100\n",
    "\n",
    "    \n",
    "  #Create a dataframe to store all the information\n",
    "  Data = {'Name':[RiderName], 'Weight':[RiderWeight], 'Height':[RiderHeight], 'Birthdate':[RiderBirthdate],'RetirementDate':[RiderRetirementDate],\n",
    "         'Nationality':[RiderNationality], 'StartsGT':[RiderGTStarts], 'StartsClassics':[RiderClassicsStarts], 'StatsOneday':[OneDayStats],\n",
    "         'StatsGC':[GCStats], 'StatsStages':[StagesStats], 'StatsTT':[TTStats], }\n",
    "  RiderInfo = pd.DataFrame(Data)  \n",
    " \n",
    "  #Get rider team per year\n",
    "  team = []\n",
    "  team_year = []\n",
    "  for ultag in html_soup.find_all('ul', {'class': 'moblist rdr-teams'}):\n",
    "    for litag in ultag.find_all('li'):\n",
    "        if re.match('^\\d{4}', litag.text):\n",
    "            team.append(litag.text[4:])\n",
    "            team_year.append(litag.text[:4])\n",
    "\n",
    "  RiderInfo['Team'] = [team]\n",
    "  RiderInfo['Team Year'] = [team_year]\n",
    "\n",
    "  #Get rider season statistics\n",
    "  RiderSeasonStatsUrl = RiderUrl + '/statistics/season-statistics'\n",
    "  \n",
    "  SeasonStatsResponse = get(RiderSeasonStatsUrl, headers=headers)\n",
    "  \n",
    "  SeasonStats_soup = BeautifulSoup(SeasonStatsResponse.text, 'html.parser')\n",
    "  SeasonStats_table = SeasonStats_soup.select('tbody tr')\n",
    "  \n",
    "  l = []\n",
    "  for tr in SeasonStats_table:\n",
    "    td = tr.find_all('td')\n",
    "    row = [tr.text for tr in td if tr.text]\n",
    "    if row:\n",
    "        l.append(row)\n",
    "        \n",
    "  RiderSeasonStatistics = pd.DataFrame(l, columns=[\"Season\", \"Points\", \"Racedays\", \"KMs\", \"Wins\", \"Top-10s\"])\n",
    "  RiderSeasonStatistics.drop(RiderSeasonStatistics.tail(1).index,inplace=True)\n",
    "\n",
    "#Create array for RiderInfo dataframe\n",
    "  RiderInfo['Stats Season'] = [RiderSeasonStatistics['Season'].to_numpy()]\n",
    "  RiderInfo['Stats Points'] = [RiderSeasonStatistics['Points'].to_numpy()]\n",
    "  RiderInfo['Stats Racedays'] = [RiderSeasonStatistics['Racedays'].to_numpy()]\n",
    "  RiderInfo['Stats KMs'] = [RiderSeasonStatistics['KMs'].to_numpy()]\n",
    "  RiderInfo['Stats Wins'] = [RiderSeasonStatistics['Wins'].to_numpy()]\n",
    "  RiderInfo['Stats Top-10s'] = [RiderSeasonStatistics['Top-10s'].to_numpy()]\n",
    "\n",
    "\n",
    "  \n",
    "  #Get rider Grand Tour statistics\n",
    "  RiderGTStatsUrl = RiderUrl + 'statistics/grand-tour-starts'\n",
    "  GTStatsResponse = get(RiderGTStatsUrl, headers=headers)\n",
    "  \n",
    "  GTStats_soup = BeautifulSoup(GTStatsResponse.text, 'html.parser')\n",
    "  data = []\n",
    "  GTStats_table = GTStats_soup.find('table', attrs={'class':'basic'})\n",
    "  table_header = GTStats_table.find('thead')\n",
    "  table_body = GTStats_table.find('tbody')\n",
    "  rows = table_body.find_all('tr')\n",
    "  all_cols = []\n",
    "  column_names = table_header.find_all('th')\n",
    "  for col in column_names:\n",
    "        col_1 = col.text.strip()\n",
    "        all_cols.append(col_1)\n",
    "\n",
    "  for row in rows:\n",
    "        cols = row.find_all('td')\n",
    "        cols = [ele.text.strip() for ele in cols]\n",
    "        data.append(cols) # Get rid of empty values\n",
    "  GTStats_df = pd.DataFrame(data, columns = all_cols).drop('#', axis=1)\n",
    "  GTStats_df['DNF']=np.where(GTStats_df['GC'] == 'DNF',1,0)\n",
    "  GTStats_df['GC']=np.where(GTStats_df['GC'] == 'DNF',np.nan,GTStats_df['GC'])\n",
    "  GTStats_df['GC'] = pd.to_numeric(GTStats_df['GC'])\n",
    "  GTStats_df['GC10']=np.where(GTStats_df['GC'] <= 10,1,0)\n",
    "  GTStats_df['GC25']=np.where(GTStats_df['GC'] <= 25,1,0)\n",
    "  GTStats_df['GC150']=np.where(GTStats_df['GC'] <= 150,1,0)\n",
    "  GTStats_df['Season'] = pd.to_numeric(GTStats_df['Season'])\n",
    "  GTStats_df['Best stage result']=np.where(GTStats_df['Best stage result'] == '?',100,GTStats_df['Best stage result'])\n",
    "  GTStats_df['Best stage result'] = pd.to_numeric(GTStats_df['Best stage result'])\n",
    "  GTStats_df['Best stage result']= np.where((GTStats_df['Best stage result'] >= 250) | (np.isnan(GTStats_df['Best stage result'])),\n",
    "                                            100,GTStats_df['Best stage result'])\n",
    "  GTStats_df = GTStats_df.drop(['GC', 'Points', 'Mountains', 'Youth'], axis=1)\n",
    "  GTStats_grouped = GTStats_df.groupby('Season').agg(best_result=('Best stage result', 'min'),\n",
    "                                                      DNF=('DNF', 'sum'),\n",
    "                                                      GC10=('GC10', 'sum'),\n",
    "                                                      GC25=('GC25', 'sum'),\n",
    "                                                      GC150=('GC150', 'sum'),\n",
    "                                                    starts_GT=('Season','count')).reset_index().sort_values('Season',\n",
    "                                                                                                           ascending=False)\n",
    "\n",
    "\n",
    "#Create array for RiderInfo dataframe\n",
    "  RiderInfo['Season GT'] = [GTStats_grouped['Season'].to_numpy()]\n",
    "  RiderInfo['Starts GT'] = [GTStats_grouped['starts_GT'].to_numpy()]\n",
    "  RiderInfo['Stage GT'] = [GTStats_grouped['best_result'].to_numpy()]\n",
    "  RiderInfo['DNF GT'] = [GTStats_grouped['DNF'].to_numpy()]\n",
    "  RiderInfo['GC10 GT'] = [GTStats_grouped['GC10'].to_numpy()]\n",
    "  RiderInfo['GC25 GT'] = [GTStats_grouped['GC25'].to_numpy()]\n",
    "  RiderInfo['GC150 GT'] = [GTStats_grouped['GC150'].to_numpy()]\n",
    "  return RiderInfo"
   ]
  },
  {
   "cell_type": "markdown",
   "metadata": {},
   "source": [
    "In order to obtain the Tour de France starter lists, the years to be scraped are stored in a list:"
   ]
  },
  {
   "cell_type": "code",
   "execution_count": 205,
   "metadata": {},
   "outputs": [],
   "source": [
    "#Get rider names\n",
    "#List with years of TdF startlists\n",
    "Years = list(range(1995, 2020))\n",
    "RidersTDF = []"
   ]
  },
  {
   "cell_type": "markdown",
   "metadata": {},
   "source": [
    "Next, all TdF starters for the given years are scraped from the crawled startlists"
   ]
  },
  {
   "cell_type": "code",
   "execution_count": 206,
   "metadata": {},
   "outputs": [],
   "source": [
    "for i in range(len(Years)):\n",
    "    TdfURL = 'https://www.procyclingstats.com/race/tour-de-france/'+str(Years[i])+'/gc/startlist'\n",
    "    headers = {'User-Agent': user_agent_list[random.randint(1,(len(user_agent_list))-1)]}\n",
    "    TdfResponse = get(TdfURL, headers=headers)\n",
    "    Tdf_soup = BeautifulSoup(TdfResponse.text, 'html.parser')\n",
    "    \n",
    "    for ahref in Tdf_soup.find_all('a', {'class': 'rider blue'}):\n",
    "        RidersTDF.append(ahref['href'][6:])"
   ]
  },
  {
   "cell_type": "markdown",
   "metadata": {},
   "source": [
    "This results in 1358 riders for the years 1995 till 2019:"
   ]
  },
  {
   "cell_type": "code",
   "execution_count": 207,
   "metadata": {},
   "outputs": [
    {
     "data": {
      "text/plain": [
       "1358"
      ]
     },
     "execution_count": 207,
     "metadata": {},
     "output_type": "execute_result"
    }
   ],
   "source": [
    "RidersTDF = list(set(RidersTDF))\n",
    "len(RidersTDF)"
   ]
  },
  {
   "cell_type": "code",
   "execution_count": 210,
   "metadata": {},
   "outputs": [],
   "source": [
    "#Scraping the data for the list of riders:\n",
    "\n",
    "rider_names = RidersTDF\n",
    "RidersInfo = None\n",
    "\n",
    "for rider_name in rider_names:\n",
    "  RiderInfo = get_rider_info(rider_name,0)\n",
    "  if RidersInfo is None:\n",
    "    RidersInfo = RiderInfo\n",
    "  else:\n",
    "    RidersInfo = RidersInfo.append(RiderInfo, ignore_index = True)"
   ]
  },
  {
   "cell_type": "markdown",
   "metadata": {},
   "source": [
    "Raw scraped data:"
   ]
  },
  {
   "cell_type": "code",
   "execution_count": 253,
   "metadata": {},
   "outputs": [
    {
     "data": {
      "text/html": [
       "<div>\n",
       "<style scoped>\n",
       "    .dataframe tbody tr th:only-of-type {\n",
       "        vertical-align: middle;\n",
       "    }\n",
       "\n",
       "    .dataframe tbody tr th {\n",
       "        vertical-align: top;\n",
       "    }\n",
       "\n",
       "    .dataframe thead th {\n",
       "        text-align: right;\n",
       "    }\n",
       "</style>\n",
       "<table border=\"1\" class=\"dataframe\">\n",
       "  <thead>\n",
       "    <tr style=\"text-align: right;\">\n",
       "      <th></th>\n",
       "      <th>Name</th>\n",
       "      <th>Weight</th>\n",
       "      <th>Height</th>\n",
       "      <th>Birthdate</th>\n",
       "      <th>RetirementDate</th>\n",
       "      <th>Nationality</th>\n",
       "      <th>StartsGT</th>\n",
       "      <th>StartsClassics</th>\n",
       "      <th>StatsOneday</th>\n",
       "      <th>StatsGC</th>\n",
       "      <th>...</th>\n",
       "      <th>Stats Wins</th>\n",
       "      <th>Stats Top-10s</th>\n",
       "      <th>Season GT</th>\n",
       "      <th>Starts GT</th>\n",
       "      <th>Stage GT</th>\n",
       "      <th>DNF GT</th>\n",
       "      <th>GC10 GT</th>\n",
       "      <th>GC25 GT</th>\n",
       "      <th>GC150 GT</th>\n",
       "      <th>ID</th>\n",
       "    </tr>\n",
       "  </thead>\n",
       "  <tbody>\n",
       "    <tr>\n",
       "      <td>0</td>\n",
       "      <td>Denis Leproux</td>\n",
       "      <td>NaN</td>\n",
       "      <td>NaN</td>\n",
       "      <td>1964-12-16</td>\n",
       "      <td>NaT</td>\n",
       "      <td>France</td>\n",
       "      <td>1</td>\n",
       "      <td>0</td>\n",
       "      <td>0.42</td>\n",
       "      <td>0.78</td>\n",
       "      <td>...</td>\n",
       "      <td>[1, 0, 0, 0, 1, 0, 0, 1]</td>\n",
       "      <td>[1, 1, 2, 2, 1, 0, 3, 2]</td>\n",
       "      <td>[1998]</td>\n",
       "      <td>[1]</td>\n",
       "      <td>[34]</td>\n",
       "      <td>[0]</td>\n",
       "      <td>[0]</td>\n",
       "      <td>[0]</td>\n",
       "      <td>[1]</td>\n",
       "      <td>0</td>\n",
       "    </tr>\n",
       "    <tr>\n",
       "      <td>1</td>\n",
       "      <td>Trent Lowe</td>\n",
       "      <td>NaN</td>\n",
       "      <td>NaN</td>\n",
       "      <td>1984-10-08</td>\n",
       "      <td>NaT</td>\n",
       "      <td>Australia</td>\n",
       "      <td>1</td>\n",
       "      <td>1</td>\n",
       "      <td>0.02</td>\n",
       "      <td>0.82</td>\n",
       "      <td>...</td>\n",
       "      <td>[0, 0, 0, 1, 0, 0, 0]</td>\n",
       "      <td>[0, 0, 0, 6, 4, 1, 4]</td>\n",
       "      <td>[2008]</td>\n",
       "      <td>[1]</td>\n",
       "      <td>[34]</td>\n",
       "      <td>[0]</td>\n",
       "      <td>[0]</td>\n",
       "      <td>[0]</td>\n",
       "      <td>[1]</td>\n",
       "      <td>1</td>\n",
       "    </tr>\n",
       "  </tbody>\n",
       "</table>\n",
       "<p>2 rows × 28 columns</p>\n",
       "</div>"
      ],
      "text/plain": [
       "            Name  Weight  Height  Birthdate RetirementDate Nationality  \\\n",
       "0  Denis Leproux     NaN     NaN 1964-12-16            NaT      France   \n",
       "1     Trent Lowe     NaN     NaN 1984-10-08            NaT   Australia   \n",
       "\n",
       "   StartsGT  StartsClassics  StatsOneday  StatsGC  ...  \\\n",
       "0         1               0         0.42     0.78  ...   \n",
       "1         1               1         0.02     0.82  ...   \n",
       "\n",
       "                 Stats Wins             Stats Top-10s Season GT Starts GT  \\\n",
       "0  [1, 0, 0, 0, 1, 0, 0, 1]  [1, 1, 2, 2, 1, 0, 3, 2]    [1998]       [1]   \n",
       "1     [0, 0, 0, 1, 0, 0, 0]     [0, 0, 0, 6, 4, 1, 4]    [2008]       [1]   \n",
       "\n",
       "  Stage GT DNF GT GC10 GT GC25 GT GC150 GT ID  \n",
       "0     [34]    [0]     [0]     [0]      [1]  0  \n",
       "1     [34]    [0]     [0]     [0]      [1]  1  \n",
       "\n",
       "[2 rows x 28 columns]"
      ]
     },
     "execution_count": 253,
     "metadata": {},
     "output_type": "execute_result"
    }
   ],
   "source": [
    "RidersInfo.head(2)"
   ]
  },
  {
   "cell_type": "markdown",
   "metadata": {},
   "source": [
    "## In this part of the notebook the raw data is being cleaned, transformed and additional features engineered:"
   ]
  },
  {
   "cell_type": "code",
   "execution_count": 1534,
   "metadata": {},
   "outputs": [],
   "source": [
    "import matplotlib as plt\n",
    "import seaborn as sns\n",
    "from scipy.stats import norm\n",
    "from sklearn.preprocessing import StandardScaler\n",
    "from scipy import stats\n",
    "from ast import literal_eval"
   ]
  },
  {
   "cell_type": "code",
   "execution_count": 1630,
   "metadata": {},
   "outputs": [],
   "source": [
    "RawData = RidersInfo"
   ]
  },
  {
   "cell_type": "code",
   "execution_count": 1631,
   "metadata": {},
   "outputs": [],
   "source": [
    "#Creation of an ID to identify each rider across seasons\n",
    "RawData['ID'] = np.arange(len(RawData))"
   ]
  },
  {
   "cell_type": "code",
   "execution_count": 1632,
   "metadata": {},
   "outputs": [
    {
     "data": {
      "text/html": [
       "<div>\n",
       "<style scoped>\n",
       "    .dataframe tbody tr th:only-of-type {\n",
       "        vertical-align: middle;\n",
       "    }\n",
       "\n",
       "    .dataframe tbody tr th {\n",
       "        vertical-align: top;\n",
       "    }\n",
       "\n",
       "    .dataframe thead th {\n",
       "        text-align: right;\n",
       "    }\n",
       "</style>\n",
       "<table border=\"1\" class=\"dataframe\">\n",
       "  <thead>\n",
       "    <tr style=\"text-align: right;\">\n",
       "      <th></th>\n",
       "      <th>Name</th>\n",
       "      <th>Weight</th>\n",
       "      <th>Height</th>\n",
       "      <th>Birthdate</th>\n",
       "      <th>RetirementDate</th>\n",
       "      <th>Nationality</th>\n",
       "      <th>StartsGT</th>\n",
       "      <th>StartsClassics</th>\n",
       "      <th>StatsOneday</th>\n",
       "      <th>StatsGC</th>\n",
       "      <th>...</th>\n",
       "      <th>Stats Wins</th>\n",
       "      <th>Stats Top-10s</th>\n",
       "      <th>Season GT</th>\n",
       "      <th>Starts GT</th>\n",
       "      <th>Stage GT</th>\n",
       "      <th>DNF GT</th>\n",
       "      <th>GC10 GT</th>\n",
       "      <th>GC25 GT</th>\n",
       "      <th>GC150 GT</th>\n",
       "      <th>ID</th>\n",
       "    </tr>\n",
       "  </thead>\n",
       "  <tbody>\n",
       "    <tr>\n",
       "      <td>0</td>\n",
       "      <td>Denis Leproux</td>\n",
       "      <td>NaN</td>\n",
       "      <td>NaN</td>\n",
       "      <td>1964-12-16</td>\n",
       "      <td>NaT</td>\n",
       "      <td>France</td>\n",
       "      <td>1</td>\n",
       "      <td>0</td>\n",
       "      <td>0.42</td>\n",
       "      <td>0.78</td>\n",
       "      <td>...</td>\n",
       "      <td>[1, 0, 0, 0, 1, 0, 0, 1]</td>\n",
       "      <td>[1, 1, 2, 2, 1, 0, 3, 2]</td>\n",
       "      <td>[1998]</td>\n",
       "      <td>[1]</td>\n",
       "      <td>[34]</td>\n",
       "      <td>[0]</td>\n",
       "      <td>[0]</td>\n",
       "      <td>[0]</td>\n",
       "      <td>[1]</td>\n",
       "      <td>0</td>\n",
       "    </tr>\n",
       "  </tbody>\n",
       "</table>\n",
       "<p>1 rows × 28 columns</p>\n",
       "</div>"
      ],
      "text/plain": [
       "            Name  Weight  Height  Birthdate RetirementDate Nationality  \\\n",
       "0  Denis Leproux     NaN     NaN 1964-12-16            NaT      France   \n",
       "\n",
       "   StartsGT  StartsClassics  StatsOneday  StatsGC  ...  \\\n",
       "0         1               0         0.42     0.78  ...   \n",
       "\n",
       "                 Stats Wins             Stats Top-10s Season GT Starts GT  \\\n",
       "0  [1, 0, 0, 0, 1, 0, 0, 1]  [1, 1, 2, 2, 1, 0, 3, 2]    [1998]       [1]   \n",
       "\n",
       "  Stage GT DNF GT GC10 GT GC25 GT GC150 GT ID  \n",
       "0     [34]    [0]     [0]     [0]      [1]  0  \n",
       "\n",
       "[1 rows x 28 columns]"
      ]
     },
     "execution_count": 1632,
     "metadata": {},
     "output_type": "execute_result"
    }
   ],
   "source": [
    "RawData.head(1)"
   ]
  },
  {
   "cell_type": "markdown",
   "metadata": {},
   "source": [
    "The following function is used to cover the nested arrays into the long format (1 row = 1 season):"
   ]
  },
  {
   "cell_type": "code",
   "execution_count": 1633,
   "metadata": {},
   "outputs": [],
   "source": [
    "def explode(df, lst_cols, fill_value='', preserve_index=False):\n",
    "    # make sure `lst_cols` is list-alike\n",
    "    if (lst_cols is not None\n",
    "        and len(lst_cols) > 0\n",
    "        and not isinstance(lst_cols, (list, tuple, np.ndarray, pd.Series))):\n",
    "        lst_cols = [lst_cols]\n",
    "    # all columns except `lst_cols`\n",
    "    idx_cols = df.columns.difference(lst_cols)\n",
    "    # calculate lengths of lists\n",
    "    lens = df[lst_cols[0]].str.len()\n",
    "    # preserve original index values    \n",
    "    idx = np.repeat(df.index.values, lens)\n",
    "    # create \"exploded\" DF\n",
    "    res = (pd.DataFrame({\n",
    "                col:np.repeat(df[col].values, lens)\n",
    "                for col in idx_cols},\n",
    "                index=idx)\n",
    "             .assign(**{col:np.concatenate(df.loc[lens>0, col].values)\n",
    "                            for col in lst_cols}))\n",
    "    # append those rows that have empty lists\n",
    "    if (lens == 0).any():\n",
    "        # at least one list in cells is empty\n",
    "        res = (res.append(df.loc[lens==0, idx_cols], sort=False)\n",
    "                  .fillna(fill_value))\n",
    "    # revert the original index order\n",
    "    res = res.sort_index()\n",
    "    # reset index if requested\n",
    "    if not preserve_index:        \n",
    "        res = res.reset_index(drop=True)\n",
    "    return res"
   ]
  },
  {
   "cell_type": "code",
   "execution_count": 1634,
   "metadata": {},
   "outputs": [],
   "source": [
    "col_season= ['Stats Season', 'Stats KMs', 'Stats Points', 'Stats Wins', 'Stats Racedays', 'Stats Top-10s']\n",
    "col_GT = ['Season GT', 'Starts GT', 'Stage GT', 'DNF GT',\n",
    "       'GC10 GT', 'GC25 GT', 'GC150 GT']"
   ]
  },
  {
   "cell_type": "markdown",
   "metadata": {},
   "source": [
    "Split the data set in two parts: 1. the data scraped from the main page of a rider and 2. the statistics scraped from subpages.  \n",
    "This is done, as the number of entries is not equal between the two, as some riders had seasons without being part of a professional cycling team:"
   ]
  },
  {
   "cell_type": "code",
   "execution_count": 1635,
   "metadata": {},
   "outputs": [],
   "source": [
    "TeamRaw = explode(RawData, ['Team', 'Team Year'], fill_value=np.nan).drop(col_season + col_GT, 1)\n"
   ]
  },
  {
   "cell_type": "code",
   "execution_count": 1636,
   "metadata": {},
   "outputs": [
    {
     "data": {
      "text/html": [
       "<div>\n",
       "<style scoped>\n",
       "    .dataframe tbody tr th:only-of-type {\n",
       "        vertical-align: middle;\n",
       "    }\n",
       "\n",
       "    .dataframe tbody tr th {\n",
       "        vertical-align: top;\n",
       "    }\n",
       "\n",
       "    .dataframe thead th {\n",
       "        text-align: right;\n",
       "    }\n",
       "</style>\n",
       "<table border=\"1\" class=\"dataframe\">\n",
       "  <thead>\n",
       "    <tr style=\"text-align: right;\">\n",
       "      <th></th>\n",
       "      <th>ID</th>\n",
       "      <th>Stats Season</th>\n",
       "      <th>Stats KMs</th>\n",
       "      <th>Stats Points</th>\n",
       "      <th>Stats Wins</th>\n",
       "      <th>Stats Racedays</th>\n",
       "      <th>Stats Top-10s</th>\n",
       "    </tr>\n",
       "  </thead>\n",
       "  <tbody>\n",
       "    <tr>\n",
       "      <td>0</td>\n",
       "      <td>0</td>\n",
       "      <td>2000</td>\n",
       "      <td>2423</td>\n",
       "      <td>25</td>\n",
       "      <td>1</td>\n",
       "      <td>17</td>\n",
       "      <td>1</td>\n",
       "    </tr>\n",
       "    <tr>\n",
       "      <td>1</td>\n",
       "      <td>0</td>\n",
       "      <td>1999</td>\n",
       "      <td>785</td>\n",
       "      <td>1</td>\n",
       "      <td>0</td>\n",
       "      <td>4</td>\n",
       "      <td>1</td>\n",
       "    </tr>\n",
       "    <tr>\n",
       "      <td>2</td>\n",
       "      <td>0</td>\n",
       "      <td>1998</td>\n",
       "      <td>4944</td>\n",
       "      <td>35</td>\n",
       "      <td>0</td>\n",
       "      <td>30</td>\n",
       "      <td>2</td>\n",
       "    </tr>\n",
       "    <tr>\n",
       "      <td>3</td>\n",
       "      <td>0</td>\n",
       "      <td>1997</td>\n",
       "      <td>0</td>\n",
       "      <td>95</td>\n",
       "      <td>0</td>\n",
       "      <td>2</td>\n",
       "      <td>2</td>\n",
       "    </tr>\n",
       "    <tr>\n",
       "      <td>4</td>\n",
       "      <td>0</td>\n",
       "      <td>1992</td>\n",
       "      <td>0</td>\n",
       "      <td>100</td>\n",
       "      <td>1</td>\n",
       "      <td>1</td>\n",
       "      <td>1</td>\n",
       "    </tr>\n",
       "  </tbody>\n",
       "</table>\n",
       "</div>"
      ],
      "text/plain": [
       "   ID  Stats Season  Stats KMs  Stats Points  Stats Wins  Stats Racedays  \\\n",
       "0   0          2000       2423            25           1              17   \n",
       "1   0          1999        785             1           0               4   \n",
       "2   0          1998       4944            35           0              30   \n",
       "3   0          1997          0            95           0               2   \n",
       "4   0          1992          0           100           1               1   \n",
       "\n",
       "   Stats Top-10s  \n",
       "0              1  \n",
       "1              1  \n",
       "2              2  \n",
       "3              2  \n",
       "4              1  "
      ]
     },
     "execution_count": 1636,
     "metadata": {},
     "output_type": "execute_result"
    }
   ],
   "source": [
    "#Season Statistics:\n",
    "StatsRaw = explode(RawData, col_season, fill_value=np.nan)[['ID'] + col_season]\n",
    "#set data types right for StatsRaw\n",
    "cols=[i for i in StatsRaw.columns]\n",
    "for col in cols:\n",
    "    StatsRaw[col]=pd.to_numeric(StatsRaw[col])\n",
    "StatsRaw.head()"
   ]
  },
  {
   "cell_type": "code",
   "execution_count": 1637,
   "metadata": {},
   "outputs": [
    {
     "data": {
      "text/html": [
       "<div>\n",
       "<style scoped>\n",
       "    .dataframe tbody tr th:only-of-type {\n",
       "        vertical-align: middle;\n",
       "    }\n",
       "\n",
       "    .dataframe tbody tr th {\n",
       "        vertical-align: top;\n",
       "    }\n",
       "\n",
       "    .dataframe thead th {\n",
       "        text-align: right;\n",
       "    }\n",
       "</style>\n",
       "<table border=\"1\" class=\"dataframe\">\n",
       "  <thead>\n",
       "    <tr style=\"text-align: right;\">\n",
       "      <th></th>\n",
       "      <th>ID</th>\n",
       "      <th>Season GT</th>\n",
       "      <th>Starts GT</th>\n",
       "      <th>Stage GT</th>\n",
       "      <th>DNF GT</th>\n",
       "      <th>GC10 GT</th>\n",
       "      <th>GC25 GT</th>\n",
       "      <th>GC150 GT</th>\n",
       "    </tr>\n",
       "  </thead>\n",
       "  <tbody>\n",
       "    <tr>\n",
       "      <td>0</td>\n",
       "      <td>0</td>\n",
       "      <td>1998</td>\n",
       "      <td>1</td>\n",
       "      <td>34</td>\n",
       "      <td>0</td>\n",
       "      <td>0</td>\n",
       "      <td>0</td>\n",
       "      <td>1</td>\n",
       "    </tr>\n",
       "    <tr>\n",
       "      <td>1</td>\n",
       "      <td>1</td>\n",
       "      <td>2008</td>\n",
       "      <td>1</td>\n",
       "      <td>34</td>\n",
       "      <td>0</td>\n",
       "      <td>0</td>\n",
       "      <td>0</td>\n",
       "      <td>1</td>\n",
       "    </tr>\n",
       "    <tr>\n",
       "      <td>2</td>\n",
       "      <td>2</td>\n",
       "      <td>2019</td>\n",
       "      <td>1</td>\n",
       "      <td>42</td>\n",
       "      <td>1</td>\n",
       "      <td>0</td>\n",
       "      <td>0</td>\n",
       "      <td>0</td>\n",
       "    </tr>\n",
       "    <tr>\n",
       "      <td>3</td>\n",
       "      <td>2</td>\n",
       "      <td>2018</td>\n",
       "      <td>2</td>\n",
       "      <td>1</td>\n",
       "      <td>0</td>\n",
       "      <td>0</td>\n",
       "      <td>0</td>\n",
       "      <td>2</td>\n",
       "    </tr>\n",
       "    <tr>\n",
       "      <td>4</td>\n",
       "      <td>2</td>\n",
       "      <td>2017</td>\n",
       "      <td>2</td>\n",
       "      <td>5</td>\n",
       "      <td>0</td>\n",
       "      <td>0</td>\n",
       "      <td>0</td>\n",
       "      <td>2</td>\n",
       "    </tr>\n",
       "  </tbody>\n",
       "</table>\n",
       "</div>"
      ],
      "text/plain": [
       "   ID  Season GT  Starts GT  Stage GT  DNF GT  GC10 GT  GC25 GT  GC150 GT\n",
       "0   0       1998          1        34       0        0        0         1\n",
       "1   1       2008          1        34       0        0        0         1\n",
       "2   2       2019          1        42       1        0        0         0\n",
       "3   2       2018          2         1       0        0        0         2\n",
       "4   2       2017          2         5       0        0        0         2"
      ]
     },
     "execution_count": 1637,
     "metadata": {},
     "output_type": "execute_result"
    }
   ],
   "source": [
    "#GrandTour Statistics\n",
    "GTRaw = explode(RawData, col_GT, fill_value=np.nan)[['ID'] + col_GT]\n",
    "#set data types right for GTRaw\n",
    "cols=[i for i in GTRaw.columns]\n",
    "for col in cols:\n",
    "    GTRaw[col]=pd.to_numeric(GTRaw[col])\n",
    "GTRaw.head()"
   ]
  },
  {
   "cell_type": "code",
   "execution_count": 1638,
   "metadata": {},
   "outputs": [],
   "source": [
    "StatsRaw = pd.merge(StatsRaw, GTRaw,\n",
    "                    how='left', left_on=['ID', 'Stats Season'],\n",
    "                    right_on=['ID', 'Season GT']).drop('Season GT', axis=1).fillna(int(0))\n"
   ]
  },
  {
   "cell_type": "markdown",
   "metadata": {},
   "source": [
    "Unfortunately the scraped data is not without errors and outliers. Some riders got results from before they were even alive, while others decided in their late 50s to start racing again.  \n",
    "Below the seasons affected with errors or outliers are removed:"
   ]
  },
  {
   "cell_type": "code",
   "execution_count": 1639,
   "metadata": {},
   "outputs": [],
   "source": [
    "def drop_a_season(Rider, Season_y):\n",
    "    rider_ID = TeamRaw[TeamRaw['Name'] == Rider]['ID'].unique()[0]\n",
    "    df_drop = StatsRaw[(StatsRaw['ID'] == rider_ID) & (StatsRaw['Stats Season'] == Season_y)]\n",
    "    return StatsRaw.drop(df_drop.index)\n",
    "\n",
    "\n",
    "\n",
    "#drop wrong data: Maryan Hary - Season 1906\n",
    "StatsRaw = drop_a_season('Maryan Hary', 1906)\n",
    "\n",
    "#drop wrong data: Francisco Pérez - Season 1970\n",
    "StatsRaw = drop_a_season('Francisco Pérez', 1970)\n",
    "#FP_ID = TeamRaw[TeamRaw['Name'] == 'Francisco Pérez']['ID'].unique()[0]\n",
    "#StatsRaw = StatsRaw[((StatsRaw['ID'] != FP_ID) & (StatsRaw['Stats Season'] != 1970))]\n",
    "\n",
    "#drop wrong data: Aitor Garmendia - Season 1977\n",
    "StatsRaw = drop_a_season('Aitor Garmendia', 1977)\n",
    "#AG_ID = TeamRaw[TeamRaw['Name'] == 'Aitor Garmendia']['ID'].unique()[0]\n",
    "#StatsRaw = StatsRaw[((StatsRaw['ID'] != AG_ID) & (StatsRaw['Stats Season'] != 1977))]\n",
    "\n",
    "#drop wrong data: Gian Matteo Fagnini - Season 1983\n",
    "StatsRaw = drop_a_season('Gian Matteo Fagnini', 1983)\n",
    "#GM_ID = TeamRaw[TeamRaw['Name'] == 'Gian Matteo Fagnini']['ID'].unique()[0]\n",
    "#StatsRaw = StatsRaw[((StatsRaw['ID'] != GM_ID) & (StatsRaw['Stats Season'] != 1983))]\n",
    "\n",
    "#drop wrong data: Laurent Roux - Season 1986\n",
    "StatsRaw = drop_a_season('Laurent Roux', 1986)\n",
    "\n",
    "#drop wrong data: Frédéric Guesdon - Season 1985\n",
    "StatsRaw = drop_a_season('Frédéric Guesdon', 1985)\n",
    "\n",
    "#drop wrong data: Peter Meinert-Nielsen - Everything after Season 2000\n",
    "rider_ID = TeamRaw[TeamRaw['Name'] == 'Peter Meinert-Nielsen']['ID'].unique()[0]\n",
    "df_drop = StatsRaw[(StatsRaw['ID'] == rider_ID) & (StatsRaw['Stats Season'] > 2000)]\n",
    "StatsRaw = StatsRaw.drop(df_drop.index, axis=0)\n",
    "\n",
    "#drop wrong data: Andrea Tafi - Everything after Season 2003\n",
    "rider_ID = TeamRaw[TeamRaw['Name'] == 'Andrea Tafi']['ID'].unique()[0]\n",
    "df_drop = StatsRaw[(StatsRaw['ID'] == rider_ID) & (StatsRaw['Stats Season'] > 2003)]\n",
    "StatsRaw = StatsRaw.drop(df_drop.index, axis=0)"
   ]
  },
  {
   "cell_type": "markdown",
   "metadata": {},
   "source": [
    "Based on the team category a cumulative count of the years riding for a team on a certain level and being a tainee or not feature arre ceated.  \n",
    "In addition duplicates due to mid-season transfers are deleted (in this case the team with the longest duration is taken as the team for the entire season) "
   ]
  },
  {
   "cell_type": "code",
   "execution_count": 1640,
   "metadata": {},
   "outputs": [],
   "source": [
    "YearNow = dt.datetime.now().year #get current year\n",
    "TeamRaw['Team Year'] = pd.to_numeric(TeamRaw['Team Year'], errors='coerce').fillna(0).astype(np.int64) #convert to int\n",
    "TeamRaw = TeamRaw[TeamRaw['Team Year'] < int(YearNow)] #filter out all rows with contract longer than current year"
   ]
  },
  {
   "cell_type": "code",
   "execution_count": 1641,
   "metadata": {},
   "outputs": [],
   "source": [
    "TeamRaw['TeamCat'] = TeamRaw['Team'].str.extract('\\((\\w+)\\).*?', expand=True) #extract team category"
   ]
  },
  {
   "cell_type": "code",
   "execution_count": 1642,
   "metadata": {},
   "outputs": [
    {
     "data": {
      "text/plain": [
       "AG2R La Mondiale (WT)                         203\n",
       "Team Katusha  (WT)                            179\n",
       "Team Telekom (TT1)                            178\n",
       "Movistar Team (WT)                            169\n",
       "Banesto (TT1)                                 168\n",
       "                                             ... \n",
       "Mercatone Uno () (Untill 07/05)                 1\n",
       "Team Hervis Apo Sport (TT3)                     1\n",
       "Kelme - Costa Blanca (TT1) (As from 22/06)      1\n",
       "Miche-Guerciotti  (CT) (As from 03/05)          1\n",
       "Alexia Alluminio () (Untill 01/07)              1\n",
       "Name: Team, Length: 1768, dtype: int64"
      ]
     },
     "execution_count": 1642,
     "metadata": {},
     "output_type": "execute_result"
    }
   ],
   "source": [
    "TeamRaw['Team'].value_counts() #check frequency of team strings"
   ]
  },
  {
   "cell_type": "code",
   "execution_count": 1643,
   "metadata": {},
   "outputs": [],
   "source": [
    "TeamRaw['TeamCatForm'] = TeamRaw['TeamCat'].replace({'TT1':'WT', 'PT':'WT', 'TT2':'PCT', 'TT3':'CT', 'CLUB': np.nan, }) #new column formatted team cat\n",
    "\n"
   ]
  },
  {
   "cell_type": "code",
   "execution_count": 1644,
   "metadata": {},
   "outputs": [],
   "source": [
    "TeamRaw['UntilDate'] = TeamRaw['Team'].str.extract('\\(Untill\\s(\\d{2}\\/\\d{2})\\)', expand=True) #date string of 'until xx/xx'\n",
    "TeamRaw['AsFromDate'] = TeamRaw['Team'].str.extract('\\(As\\sfrom\\s(\\d{2}\\/\\d{2})\\)', expand=True) #date string of As from 'xx/xx'\n",
    "TeamRaw['TraineeDate'] = TeamRaw['Team'].str.extract('\\(Trainee as\\sfrom\\s(\\d{2}\\/\\d{2})\\)', expand=True) #date string of 'Trainee as from xx/xx'\n",
    "\n",
    "TeamRaw['Trainee'] = np.where(TeamRaw['TraineeDate'].isnull(), 0, 1) #making a new column trainee yes = 1; no = 0\n",
    "\n",
    "TeamRaw['UntilDate'] = TeamRaw['UntilDate']+\"/\"+TeamRaw['Team Year'].astype(str) #make string for until date\n",
    "TeamRaw['UntilDate'] = pd.to_datetime(TeamRaw['UntilDate']) #convert until date to datetime\n",
    "\n",
    "TeamRaw['AsFromDate'] = TeamRaw['AsFromDate']+\"/\"+TeamRaw['Team Year'].astype(str) #make string for asfrom date\n",
    "TeamRaw['AsFromDate'] = pd.to_datetime(TeamRaw['AsFromDate']) #convert asfrom date to datetime"
   ]
  },
  {
   "cell_type": "code",
   "execution_count": 1645,
   "metadata": {},
   "outputs": [],
   "source": [
    "#check for duplicates years + rider id \n",
    "grouped = TeamRaw.groupby(['ID', 'Team Year']).size().reset_index(name='count').sort_values('count', ascending = False)\n",
    "grouped[grouped['count'] > 1]\n",
    "\n",
    "\n",
    "#filter out any duplicates only due to changing team names\n",
    "df_droplog = pd.DataFrame()\n",
    "filteredDf = TeamRaw.loc[(pd.isnull(TeamRaw['AsFromDate'])) &\n",
    "            (pd.isnull(TeamRaw['UntilDate'])) &\n",
    "            (TeamRaw['Trainee'] == 0)]\n",
    "mask = filteredDf.drop_duplicates(subset=['ID', 'Team Year'])\n",
    "droplog = filteredDf[~filteredDf.isin(mask)].dropna(how='all')\n",
    "TeamRaw = TeamRaw[~TeamRaw.isin(droplog)].dropna(how='all')\n",
    "\n",
    "#set TraineeYear=1 for all years where rider is trainee and filter out rows with Trainee=1\n",
    "TeamRaw['TraineeYear'] = TeamRaw.groupby(['ID', 'Team Year'])['Trainee'].transform(max)\n",
    "TeamRaw = TeamRaw.loc[(TeamRaw['Trainee'] == 0)]\n",
    "\n",
    "EndOfSeason = pd.to_datetime(\"31-12-\"+TeamRaw['Team Year'].astype(int).astype(str))\n",
    "StartOfSeason = pd.to_datetime(\"01-01-\"+TeamRaw['Team Year'].astype(int).astype(str))\n",
    "\n",
    "#Calculate main team of a season if multiple teams\n",
    "TeamRaw['TeamLength'] = np.where((pd.notna(TeamRaw['UntilDate']) & (pd.notna(TeamRaw['AsFromDate']))), TeamRaw['UntilDate'] - TeamRaw['AsFromDate'],\n",
    "                                 np.where(pd.notna(TeamRaw['UntilDate']), TeamRaw['UntilDate'] - StartOfSeason,\n",
    "                                 np.where(pd.notna(TeamRaw['AsFromDate']), EndOfSeason - TeamRaw['AsFromDate'], np.nan)))\n"
   ]
  },
  {
   "cell_type": "code",
   "execution_count": 1646,
   "metadata": {},
   "outputs": [],
   "source": [
    "#sort values, so that duplicates with least TeamLength are dropped\n",
    "TeamRaw = TeamRaw.sort_values(['ID', 'Team Year', 'TeamLength'])\n",
    "TeamRaw = TeamRaw.drop_duplicates(subset=['ID', 'Team Year'], keep = 'last') #drop duplicates\n"
   ]
  },
  {
   "cell_type": "code",
   "execution_count": 1647,
   "metadata": {},
   "outputs": [],
   "source": [
    "#add retirement date for riders without a retirement date but no contract for 2018\n",
    "TeamRaw['RetirementDate'] = np.where((TeamRaw.groupby(['ID'])['Team Year'].transform(max) <  2018) & (pd.isna(TeamRaw.groupby(['ID'])['RetirementDate'].transform(max))),\n",
    "         pd.to_datetime(\"31-12-\"+TeamRaw.groupby(['ID'])['Team Year'].transform(max).astype(int).astype(str)), TeamRaw['RetirementDate'])"
   ]
  },
  {
   "cell_type": "code",
   "execution_count": 1648,
   "metadata": {},
   "outputs": [],
   "source": [
    "# Get one hot encoding of columns B\n",
    "one_hot = pd.get_dummies(TeamRaw['TeamCatForm'])\n",
    "\n",
    "# Drop column B as it is now encoded\n",
    "TeamRaw = TeamRaw.drop('TeamCatForm',axis = 1)\n",
    "# Join the encoded df\n",
    "TeamRaw = TeamRaw.join(one_hot)"
   ]
  },
  {
   "cell_type": "code",
   "execution_count": 1649,
   "metadata": {},
   "outputs": [],
   "source": [
    "TeamRaw = TeamRaw.sort_values(['ID', 'Team Year']) #sort ascending first ID then year to make cumulative sum\n",
    "\n",
    "TeamRaw['CT'] = TeamRaw.groupby('ID')['CT'].cumsum().astype(int) #cumyears CT\n",
    "TeamRaw['PCT'] = TeamRaw.groupby('ID')['PCT'].cumsum().astype(int) #cumyears PCT\n",
    "TeamRaw['WT'] = TeamRaw.groupby('ID')['WT'].cumsum().astype(int) #cumyears WT"
   ]
  },
  {
   "cell_type": "markdown",
   "metadata": {},
   "source": [
    "In case a rider had a long-term injury or other reasons to have a year without races, these years are added and filled later on with `0` to not have any breaks in the sequences:"
   ]
  },
  {
   "cell_type": "code",
   "execution_count": 1650,
   "metadata": {},
   "outputs": [],
   "source": [
    "\n",
    "def make_years_ids(df):\n",
    "    df_year = []\n",
    "    df_ids = []\n",
    "    for ids in df['ID'].unique():\n",
    "        min_Season = df[df['ID'] == ids]['Stats Season'].min()\n",
    "        max_Season = df[df['ID'] == ids]['Stats Season'].max()\n",
    "        years = list(range(min_Season, max_Season+1))\n",
    "        IDs = [ids] * len(years)\n",
    "        df_year.extend(years)\n",
    "        df_ids.extend(IDs)\n",
    "    d = {'Season':df_year,'IDs':df_ids}\n",
    "    return pd.DataFrame(d)\n",
    "    \n",
    "    "
   ]
  },
  {
   "cell_type": "code",
   "execution_count": 1651,
   "metadata": {},
   "outputs": [],
   "source": [
    "years_ids = make_years_ids(StatsRaw)\n",
    "\n",
    "Stats_nbreak = pd.merge(years_ids, StatsRaw, how='left',\n",
    "                        left_on=['IDs', 'Season'],\n",
    "                        right_on=['ID', 'Stats Season'])\n",
    "\n",
    "Stats_nbreak.loc[:, Stats_nbreak.columns.difference(['Birthday'])] = Stats_nbreak.loc[:, Stats_nbreak.columns.difference(['Birthday'])].fillna(0)\n"
   ]
  },
  {
   "cell_type": "markdown",
   "metadata": {},
   "source": [
    "In the next step, the splitted data is merged together:"
   ]
  },
  {
   "cell_type": "code",
   "execution_count": 1652,
   "metadata": {},
   "outputs": [],
   "source": [
    "#drop not used columns\n",
    "TeamRaw = TeamRaw.drop(['TeamLength', 'Trainee', 'TraineeDate', 'UntilDate', 'AsFromDate'], axis = 1)\n",
    "\n",
    "TeamRaw['ID'] = TeamRaw['ID'].astype(int)\n",
    "TeamRaw['Team Year'] = TeamRaw['Team Year'].astype(int)\n",
    "\n",
    "#Merge Team and Stats\n",
    "Merged = pd.merge(Stats_nbreak, TeamRaw, how='left', right_on=['ID', 'Team Year'], left_on=['IDs', 'Season'])\n"
   ]
  },
  {
   "cell_type": "markdown",
   "metadata": {},
   "source": [
    "Finally, to the merged data features such as age or length of career and the target variable `UntilEvent` are created and added to the merged data:  "
   ]
  },
  {
   "cell_type": "code",
   "execution_count": 1653,
   "metadata": {},
   "outputs": [],
   "source": [
    "# Calculate Careerlength\n",
    "Merged['CareerLength'] = Merged['Season'] - (Merged.groupby(['IDs'])['Season'].transform(min) - 1)\n",
    "\n",
    "\n",
    "\n",
    "#start and stop\n",
    "Merged['start'] = np.where(Merged['CareerLength'] == 1, 0, Merged['CareerLength'].shift())\n",
    "Merged['stop'] = Merged['Season'] - Merged.groupby(['IDs'])['Season'].transform(min) + 1\n",
    "\n",
    "Merged['CareerLength'] = Merged['CareerLength'].astype(int)\n",
    "Merged['start'] = Merged['start'].astype(int)\n",
    "Merged['stop'] =Merged['stop'].astype(int)\n"
   ]
  },
  {
   "cell_type": "code",
   "execution_count": 1654,
   "metadata": {},
   "outputs": [],
   "source": [
    "#Create Age variable\n",
    "Merged['Birthdate'] = Merged['Birthdate'].fillna(pd.to_datetime(\"31-12-1900\"))\n",
    "Merged['Birthdate'] = Merged.groupby(['IDs'])['Birthdate'].transform(max)\n",
    "                                            \n",
    "                                                 \n",
    "Merged['Age'] = round((pd.to_datetime(\"31-12-\" + Merged['Season'].astype(int).astype(str))-Merged['Birthdate']).dt.days / 365, 2)\n",
    "\n",
    "\n",
    "Merged['event'] = np.where(Merged['Season'] == Merged['RetirementDate'].dt.year, 1, 0)\n",
    "\n",
    "Merged['UntilEvent'] = np.where(Merged.groupby(['IDs'])['event'].transform(max) == 1, Merged.groupby(['IDs'])['CareerLength'].transform(max)-Merged['stop'], -99)\n",
    "\n",
    "#If missing stats set as 0\n",
    "Merged = Merged.fillna(0)\n",
    "\n",
    "#drop not used columns\n",
    "Merged = Merged.drop(['ID_x', 'ID_y', 'Team Year'], axis=1)\n"
   ]
  },
  {
   "cell_type": "markdown",
   "metadata": {},
   "source": [
    "## Data Exploration after Cleaning and Feature Engineering  \n",
    "There are 18842 rows from 1358 riders in the data set:  "
   ]
  },
  {
   "cell_type": "code",
   "execution_count": 1655,
   "metadata": {},
   "outputs": [
    {
     "name": "stdout",
     "output_type": "stream",
     "text": [
      "18842 1358\n"
     ]
    }
   ],
   "source": [
    "print(len(Merged), len(Merged.groupby('IDs')))"
   ]
  },
  {
   "cell_type": "markdown",
   "metadata": {},
   "source": [
    "890 of those riders arre already retired (`event = 1`), while 468 are still considered as active:  "
   ]
  },
  {
   "cell_type": "code",
   "execution_count": 1656,
   "metadata": {},
   "outputs": [
    {
     "data": {
      "text/plain": [
       "1    890\n",
       "0    468\n",
       "Name: event, dtype: int64"
      ]
     },
     "metadata": {},
     "output_type": "display_data"
    },
    {
     "data": {
      "text/plain": [
       "<matplotlib.axes._subplots.AxesSubplot at 0x1a8de3fb10>"
      ]
     },
     "execution_count": 1656,
     "metadata": {},
     "output_type": "execute_result"
    },
    {
     "data": {
      "image/png": "[encoded data removed]",
      "text/plain": [
       "<Figure size 720x720 with 1 Axes>"
      ]
     },
     "metadata": {
      "needs_background": "light"
     },
     "output_type": "display_data"
    }
   ],
   "source": [
    "plt.rcParams[\"figure.figsize\"] = (10, 10) #set plot size\n",
    "active_retired = Merged.groupby('IDs')['event'].max().value_counts()\n",
    "display(active_retired)\n",
    "active_retired.plot.bar()"
   ]
  },
  {
   "cell_type": "markdown",
   "metadata": {},
   "source": [
    "Looking at the sum of grand tour starts, the average retired Tour de France starter between 1995 and 2019 started at `9.4` grand tours. Interestingly it seems, that only a few riders are able to take the start at more than 20 grand tours during their career.  "
   ]
  },
  {
   "cell_type": "code",
   "execution_count": 1657,
   "metadata": {},
   "outputs": [
    {
     "data": {
      "text/plain": [
       "count    890.000000\n",
       "mean       9.423596\n",
       "std        5.876428\n",
       "min        1.000000\n",
       "25%        5.000000\n",
       "50%        9.000000\n",
       "75%       13.000000\n",
       "max       34.000000\n",
       "Name: Starts GT, dtype: float64"
      ]
     },
     "metadata": {},
     "output_type": "display_data"
    },
    {
     "data": {
      "text/plain": [
       "<matplotlib.axes._subplots.AxesSubplot at 0x1ac3a07790>"
      ]
     },
     "execution_count": 1657,
     "metadata": {},
     "output_type": "execute_result"
    },
    {
     "data": {
      "image/png": "[encoded data removed]",
      "text/plain": [
       "<Figure size 720x720 with 1 Axes>"
      ]
     },
     "metadata": {
      "needs_background": "light"
     },
     "output_type": "display_data"
    }
   ],
   "source": [
    "gt_starts = Merged[Merged['UntilEvent'] != -99].groupby('IDs')['Starts GT'].sum()\n",
    "display(gt_starts.describe())\n",
    "# Density Plot and Histogram of sum of GT starts\n",
    "sns.distplot(gt_starts, hist=True, kde=True, color = 'darkblue', \n",
    "             hist_kws={'edgecolor':'black'},\n",
    "             kde_kws={'linewidth': 4})"
   ]
  },
  {
   "cell_type": "markdown",
   "metadata": {},
   "source": [
    "Looking at the career length of the retired riders, they have been active on average for `13.8` years. Note, that this also includes any results achieved in the U19 and U23 age category."
   ]
  },
  {
   "cell_type": "code",
   "execution_count": 1658,
   "metadata": {},
   "outputs": [
    {
     "data": {
      "text/plain": [
       "count    890.000000\n",
       "mean      13.848315\n",
       "std        4.164303\n",
       "min        1.000000\n",
       "25%       11.000000\n",
       "50%       14.000000\n",
       "75%       17.000000\n",
       "max       25.000000\n",
       "Name: CareerLength, dtype: float64"
      ]
     },
     "metadata": {},
     "output_type": "display_data"
    },
    {
     "data": {
      "text/plain": [
       "<matplotlib.axes._subplots.AxesSubplot at 0x1abe34c910>"
      ]
     },
     "execution_count": 1658,
     "metadata": {},
     "output_type": "execute_result"
    },
    {
     "data": {
      "image/png": "[encoded data removed]",
      "text/plain": [
       "<Figure size 720x720 with 1 Axes>"
      ]
     },
     "metadata": {
      "needs_background": "light"
     },
     "output_type": "display_data"
    }
   ],
   "source": [
    "c_length = Merged[Merged['UntilEvent'] != -99].groupby('IDs')['CareerLength'].max()\n",
    "display(c_length.describe())\n",
    "# Density Plot and Histogram of Career Length of rriders who already ended their career\n",
    "sns.distplot(c_length, hist=True, kde=True, color = 'darkblue', \n",
    "             hist_kws={'edgecolor':'black'},\n",
    "             kde_kws={'linewidth': 4},\n",
    "            bins = 25)"
   ]
  },
  {
   "cell_type": "markdown",
   "metadata": {},
   "source": [
    "How old are Tour de France riders when they retire? For the retired starters between 1995 and 2019 this was on average when being `34.5`years old."
   ]
  },
  {
   "cell_type": "code",
   "execution_count": 1659,
   "metadata": {},
   "outputs": [
    {
     "data": {
      "text/plain": [
       "count    890.000000\n",
       "mean      34.474213\n",
       "std        3.684208\n",
       "min       23.570000\n",
       "25%       31.985000\n",
       "50%       34.475000\n",
       "75%       37.042500\n",
       "max       47.980000\n",
       "Name: Age, dtype: float64"
      ]
     },
     "metadata": {},
     "output_type": "display_data"
    },
    {
     "data": {
      "text/plain": [
       "<matplotlib.axes._subplots.AxesSubplot at 0x1a9bfd1d10>"
      ]
     },
     "execution_count": 1659,
     "metadata": {},
     "output_type": "execute_result"
    },
    {
     "data": {
      "image/png": "[encoded data removed]",
      "text/plain": [
       "<Figure size 720x720 with 1 Axes>"
      ]
     },
     "metadata": {
      "needs_background": "light"
     },
     "output_type": "display_data"
    }
   ],
   "source": [
    "age_end = Merged[Merged['UntilEvent'] != -99].groupby('IDs')['Age'].max()\n",
    "display(age_end.describe())\n",
    "# Density Plot and Histogram of age when riders ended their career\n",
    "sns.distplot(age_end, hist=True, kde=True, color = 'darkblue', \n",
    "             hist_kws={'edgecolor':'black'},\n",
    "             kde_kws={'linewidth': 4})"
   ]
  },
  {
   "cell_type": "markdown",
   "metadata": {},
   "source": [
    "The correlation heatmap below indicates a relationship between the target variable `UntilEvent` and the cumulative count of years ridden at the different levels, but also the yearly kilometers raced as well as the number of racedays.  "
   ]
  },
  {
   "cell_type": "code",
   "execution_count": 1663,
   "metadata": {},
   "outputs": [
    {
     "data": {
      "text/plain": [
       "<matplotlib.axes._subplots.AxesSubplot at 0x1ab994dc50>"
      ]
     },
     "execution_count": 1663,
     "metadata": {},
     "output_type": "execute_result"
    },
    {
     "data": {
      "image/png": "[encoded data removed]",
      "text/plain": [
       "<Figure size 720x720 with 2 Axes>"
      ]
     },
     "metadata": {
      "needs_background": "light"
     },
     "output_type": "display_data"
    }
   ],
   "source": [
    "sns.heatmap(Merged[Merged.columns.difference(['Season', 'IDs', 'start', 'stop', 'event'])].corr(),\n",
    "            cmap=\"YlGnBu\", center=0)"
   ]
  },
  {
   "cell_type": "markdown",
   "metadata": {},
   "source": [
    "Exporting the data as a pickle file.  In the next notebook the data is feed into a neural network with Long-Short-Term-Memory (LSTM) cells in order to determine the years left of a riders career."
   ]
  },
  {
   "cell_type": "code",
   "execution_count": 1571,
   "metadata": {},
   "outputs": [],
   "source": [
    "import pickle\n",
    "sys.setrecursionlimit(100000)\n",
    "Merged.to_pickle('CleanData.pkl')"
   ]
  },
  {
   "cell_type": "code",
   "execution_count": null,
   "metadata": {},
   "outputs": [],
   "source": []
  }
 ],
 "metadata": {
  "kernelspec": {
   "display_name": "Python 3",
   "language": "python",
   "name": "python3"
  },
  "language_info": {
   "codemirror_mode": {
    "name": "ipython",
    "version": 3
   },
   "file_extension": ".py",
   "mimetype": "text/x-python",
   "name": "python",
   "nbconvert_exporter": "python",
   "pygments_lexer": "ipython3",
   "version": "3.7.4"
  }
 },
 "nbformat": 4,
 "nbformat_minor": 2
}
